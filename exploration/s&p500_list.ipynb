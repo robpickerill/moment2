{
 "cells": [
  {
   "cell_type": "code",
   "execution_count": null,
   "id": "e9c6ba64",
   "metadata": {},
   "outputs": [],
   "source": [
    "import pandas as pd\n",
    "\n",
    "url = \"https://en.wikipedia.org/wiki/List_of_S%26P_500_companies\"\n",
    "tables = pd.read_html(url)\n",
    "sp500_table = tables[0]\n",
    "\n",
    "sp500_table['Symbol'] = sp500_table['Symbol'].str.replace('.', '-', regex=False)\n",
    "\n",
    "sp500_table.head()\n",
    "\n",
    "sp500_table.to_csv(\"../data/sp500_tickers.csv\", index=False)\n"
   ]
  },
  {
   "cell_type": "code",
   "execution_count": null,
   "id": "2db78786",
   "metadata": {},
   "outputs": [],
   "source": []
  }
 ],
 "metadata": {
  "kernelspec": {
   "display_name": ".venv",
   "language": "python",
   "name": "python3"
  },
  "language_info": {
   "codemirror_mode": {
    "name": "ipython",
    "version": 3
   },
   "file_extension": ".py",
   "mimetype": "text/x-python",
   "name": "python",
   "nbconvert_exporter": "python",
   "pygments_lexer": "ipython3",
   "version": "3.13.3"
  }
 },
 "nbformat": 4,
 "nbformat_minor": 5
}
