{
 "cells": [
  {
   "cell_type": "code",
   "execution_count": 1,
   "id": "4c6a40cf",
   "metadata": {},
   "outputs": [
    {
     "name": "stderr",
     "output_type": "stream",
     "text": [
      "[*********************100%***********************]  1 of 1 completed\n"
     ]
    },
    {
     "ename": "TypeError",
     "evalue": "cannot do slice indexing on DatetimeIndex with these indexers [Ticker\nAAPL   2023-01-05\ndtype: datetime64[ns]] of type Series",
     "output_type": "error",
     "traceback": [
      "\u001b[31m---------------------------------------------------------------------------\u001b[39m",
      "\u001b[31mTypeError\u001b[39m                                 Traceback (most recent call last)",
      "\u001b[36mCell\u001b[39m\u001b[36m \u001b[39m\u001b[32mIn[1]\u001b[39m\u001b[32m, line 51\u001b[39m\n\u001b[32m     49\u001b[39m \u001b[38;5;66;03m# === Generate signal ===\u001b[39;00m\n\u001b[32m     50\u001b[39m signal_gen = AVWAPSignal(lookback=\u001b[32m30\u001b[39m, r2_thresh=\u001b[32m0.8\u001b[39m)\n\u001b[32m---> \u001b[39m\u001b[32m51\u001b[39m entry_signal = \u001b[43msignal_gen\u001b[49m\u001b[43m.\u001b[49m\u001b[43mgenerate\u001b[49m\u001b[43m(\u001b[49m\u001b[43mprice\u001b[49m\u001b[43m=\u001b[49m\u001b[43mprice\u001b[49m\u001b[43m,\u001b[49m\u001b[43m \u001b[49m\u001b[43mvolume\u001b[49m\u001b[43m=\u001b[49m\u001b[43mvolume\u001b[49m\u001b[43m)\u001b[49m\n\u001b[32m     53\u001b[39m \u001b[38;5;66;03m# === Define exit: simple trailing AVWAP slope reversal ===\u001b[39;00m\n\u001b[32m     54\u001b[39m exit_signal = entry_signal.shift(\u001b[32m1\u001b[39m)  \u001b[38;5;66;03m# for now: exit after 1 bar (demo purpose)\u001b[39;00m\n",
      "\u001b[36mCell\u001b[39m\u001b[36m \u001b[39m\u001b[32mIn[1]\u001b[39m\u001b[32m, line 38\u001b[39m, in \u001b[36mAVWAPSignal.generate\u001b[39m\u001b[34m(self, price, volume, **kwargs)\u001b[39m\n\u001b[32m     37\u001b[39m \u001b[38;5;28;01mdef\u001b[39;00m\u001b[38;5;250m \u001b[39m\u001b[34mgenerate\u001b[39m(\u001b[38;5;28mself\u001b[39m, price: pd.Series, volume: pd.Series, **kwargs) -> pd.Series:\n\u001b[32m---> \u001b[39m\u001b[32m38\u001b[39m     avwap = \u001b[38;5;28;43mself\u001b[39;49m\u001b[43m.\u001b[49m\u001b[43mcompute_avwap\u001b[49m\u001b[43m(\u001b[49m\u001b[43mprice\u001b[49m\u001b[43m,\u001b[49m\u001b[43m \u001b[49m\u001b[43mvolume\u001b[49m\u001b[43m)\u001b[49m\n\u001b[32m     39\u001b[39m     r2 = \u001b[38;5;28mself\u001b[39m.compute_r2(avwap)\n\u001b[32m     40\u001b[39m     signal = (r2 > \u001b[38;5;28mself\u001b[39m.r2_thresh)\n",
      "\u001b[36mCell\u001b[39m\u001b[36m \u001b[39m\u001b[32mIn[1]\u001b[39m\u001b[32m, line 19\u001b[39m, in \u001b[36mAVWAPSignal.compute_avwap\u001b[39m\u001b[34m(self, price, volume)\u001b[39m\n\u001b[32m     17\u001b[39m window = price.loc[:t].iloc[-\u001b[38;5;28mself\u001b[39m.lookback:]\n\u001b[32m     18\u001b[39m anchor = window.idxmin()  \u001b[38;5;66;03m# anchor to local low\u001b[39;00m\n\u001b[32m---> \u001b[39m\u001b[32m19\u001b[39m pr = \u001b[43mprice\u001b[49m\u001b[43m.\u001b[49m\u001b[43mloc\u001b[49m\u001b[43m[\u001b[49m\u001b[43manchor\u001b[49m\u001b[43m:\u001b[49m\u001b[43mt\u001b[49m\u001b[43m]\u001b[49m\n\u001b[32m     20\u001b[39m vol = volume.loc[anchor:t]\n\u001b[32m     21\u001b[39m tpv = (pr * vol).cumsum()\n",
      "\u001b[36mFile \u001b[39m\u001b[32m~/scm/personal/github.com/robpickerill/moment2/.venv/lib/python3.13/site-packages/pandas/core/indexing.py:1191\u001b[39m, in \u001b[36m_LocationIndexer.__getitem__\u001b[39m\u001b[34m(self, key)\u001b[39m\n\u001b[32m   1189\u001b[39m maybe_callable = com.apply_if_callable(key, \u001b[38;5;28mself\u001b[39m.obj)\n\u001b[32m   1190\u001b[39m maybe_callable = \u001b[38;5;28mself\u001b[39m._check_deprecated_callable_usage(key, maybe_callable)\n\u001b[32m-> \u001b[39m\u001b[32m1191\u001b[39m \u001b[38;5;28;01mreturn\u001b[39;00m \u001b[38;5;28;43mself\u001b[39;49m\u001b[43m.\u001b[49m\u001b[43m_getitem_axis\u001b[49m\u001b[43m(\u001b[49m\u001b[43mmaybe_callable\u001b[49m\u001b[43m,\u001b[49m\u001b[43m \u001b[49m\u001b[43maxis\u001b[49m\u001b[43m=\u001b[49m\u001b[43maxis\u001b[49m\u001b[43m)\u001b[49m\n",
      "\u001b[36mFile \u001b[39m\u001b[32m~/scm/personal/github.com/robpickerill/moment2/.venv/lib/python3.13/site-packages/pandas/core/indexing.py:1411\u001b[39m, in \u001b[36m_LocIndexer._getitem_axis\u001b[39m\u001b[34m(self, key, axis)\u001b[39m\n\u001b[32m   1409\u001b[39m \u001b[38;5;28;01mif\u001b[39;00m \u001b[38;5;28misinstance\u001b[39m(key, \u001b[38;5;28mslice\u001b[39m):\n\u001b[32m   1410\u001b[39m     \u001b[38;5;28mself\u001b[39m._validate_key(key, axis)\n\u001b[32m-> \u001b[39m\u001b[32m1411\u001b[39m     \u001b[38;5;28;01mreturn\u001b[39;00m \u001b[38;5;28;43mself\u001b[39;49m\u001b[43m.\u001b[49m\u001b[43m_get_slice_axis\u001b[49m\u001b[43m(\u001b[49m\u001b[43mkey\u001b[49m\u001b[43m,\u001b[49m\u001b[43m \u001b[49m\u001b[43maxis\u001b[49m\u001b[43m=\u001b[49m\u001b[43maxis\u001b[49m\u001b[43m)\u001b[49m\n\u001b[32m   1412\u001b[39m \u001b[38;5;28;01melif\u001b[39;00m com.is_bool_indexer(key):\n\u001b[32m   1413\u001b[39m     \u001b[38;5;28;01mreturn\u001b[39;00m \u001b[38;5;28mself\u001b[39m._getbool_axis(key, axis=axis)\n",
      "\u001b[36mFile \u001b[39m\u001b[32m~/scm/personal/github.com/robpickerill/moment2/.venv/lib/python3.13/site-packages/pandas/core/indexing.py:1443\u001b[39m, in \u001b[36m_LocIndexer._get_slice_axis\u001b[39m\u001b[34m(self, slice_obj, axis)\u001b[39m\n\u001b[32m   1440\u001b[39m     \u001b[38;5;28;01mreturn\u001b[39;00m obj.copy(deep=\u001b[38;5;28;01mFalse\u001b[39;00m)\n\u001b[32m   1442\u001b[39m labels = obj._get_axis(axis)\n\u001b[32m-> \u001b[39m\u001b[32m1443\u001b[39m indexer = \u001b[43mlabels\u001b[49m\u001b[43m.\u001b[49m\u001b[43mslice_indexer\u001b[49m\u001b[43m(\u001b[49m\u001b[43mslice_obj\u001b[49m\u001b[43m.\u001b[49m\u001b[43mstart\u001b[49m\u001b[43m,\u001b[49m\u001b[43m \u001b[49m\u001b[43mslice_obj\u001b[49m\u001b[43m.\u001b[49m\u001b[43mstop\u001b[49m\u001b[43m,\u001b[49m\u001b[43m \u001b[49m\u001b[43mslice_obj\u001b[49m\u001b[43m.\u001b[49m\u001b[43mstep\u001b[49m\u001b[43m)\u001b[49m\n\u001b[32m   1445\u001b[39m \u001b[38;5;28;01mif\u001b[39;00m \u001b[38;5;28misinstance\u001b[39m(indexer, \u001b[38;5;28mslice\u001b[39m):\n\u001b[32m   1446\u001b[39m     \u001b[38;5;28;01mreturn\u001b[39;00m \u001b[38;5;28mself\u001b[39m.obj._slice(indexer, axis=axis)\n",
      "\u001b[36mFile \u001b[39m\u001b[32m~/scm/personal/github.com/robpickerill/moment2/.venv/lib/python3.13/site-packages/pandas/core/indexes/datetimes.py:682\u001b[39m, in \u001b[36mDatetimeIndex.slice_indexer\u001b[39m\u001b[34m(self, start, end, step)\u001b[39m\n\u001b[32m    674\u001b[39m \u001b[38;5;66;03m# GH#33146 if start and end are combinations of str and None and Index is not\u001b[39;00m\n\u001b[32m    675\u001b[39m \u001b[38;5;66;03m# monotonic, we can not use Index.slice_indexer because it does not honor the\u001b[39;00m\n\u001b[32m    676\u001b[39m \u001b[38;5;66;03m# actual elements, is only searching for start and end\u001b[39;00m\n\u001b[32m    677\u001b[39m \u001b[38;5;28;01mif\u001b[39;00m (\n\u001b[32m    678\u001b[39m     check_str_or_none(start)\n\u001b[32m    679\u001b[39m     \u001b[38;5;129;01mor\u001b[39;00m check_str_or_none(end)\n\u001b[32m    680\u001b[39m     \u001b[38;5;129;01mor\u001b[39;00m \u001b[38;5;28mself\u001b[39m.is_monotonic_increasing\n\u001b[32m    681\u001b[39m ):\n\u001b[32m--> \u001b[39m\u001b[32m682\u001b[39m     \u001b[38;5;28;01mreturn\u001b[39;00m \u001b[43mIndex\u001b[49m\u001b[43m.\u001b[49m\u001b[43mslice_indexer\u001b[49m\u001b[43m(\u001b[49m\u001b[38;5;28;43mself\u001b[39;49m\u001b[43m,\u001b[49m\u001b[43m \u001b[49m\u001b[43mstart\u001b[49m\u001b[43m,\u001b[49m\u001b[43m \u001b[49m\u001b[43mend\u001b[49m\u001b[43m,\u001b[49m\u001b[43m \u001b[49m\u001b[43mstep\u001b[49m\u001b[43m)\u001b[49m\n\u001b[32m    684\u001b[39m mask = np.array(\u001b[38;5;28;01mTrue\u001b[39;00m)\n\u001b[32m    685\u001b[39m in_index = \u001b[38;5;28;01mTrue\u001b[39;00m\n",
      "\u001b[36mFile \u001b[39m\u001b[32m~/scm/personal/github.com/robpickerill/moment2/.venv/lib/python3.13/site-packages/pandas/core/indexes/base.py:6662\u001b[39m, in \u001b[36mIndex.slice_indexer\u001b[39m\u001b[34m(self, start, end, step)\u001b[39m\n\u001b[32m   6618\u001b[39m \u001b[38;5;28;01mdef\u001b[39;00m\u001b[38;5;250m \u001b[39m\u001b[34mslice_indexer\u001b[39m(\n\u001b[32m   6619\u001b[39m     \u001b[38;5;28mself\u001b[39m,\n\u001b[32m   6620\u001b[39m     start: Hashable | \u001b[38;5;28;01mNone\u001b[39;00m = \u001b[38;5;28;01mNone\u001b[39;00m,\n\u001b[32m   6621\u001b[39m     end: Hashable | \u001b[38;5;28;01mNone\u001b[39;00m = \u001b[38;5;28;01mNone\u001b[39;00m,\n\u001b[32m   6622\u001b[39m     step: \u001b[38;5;28mint\u001b[39m | \u001b[38;5;28;01mNone\u001b[39;00m = \u001b[38;5;28;01mNone\u001b[39;00m,\n\u001b[32m   6623\u001b[39m ) -> \u001b[38;5;28mslice\u001b[39m:\n\u001b[32m   6624\u001b[39m \u001b[38;5;250m    \u001b[39m\u001b[33;03m\"\"\"\u001b[39;00m\n\u001b[32m   6625\u001b[39m \u001b[33;03m    Compute the slice indexer for input labels and step.\u001b[39;00m\n\u001b[32m   6626\u001b[39m \n\u001b[32m   (...)\u001b[39m\u001b[32m   6660\u001b[39m \u001b[33;03m    slice(1, 3, None)\u001b[39;00m\n\u001b[32m   6661\u001b[39m \u001b[33;03m    \"\"\"\u001b[39;00m\n\u001b[32m-> \u001b[39m\u001b[32m6662\u001b[39m     start_slice, end_slice = \u001b[38;5;28;43mself\u001b[39;49m\u001b[43m.\u001b[49m\u001b[43mslice_locs\u001b[49m\u001b[43m(\u001b[49m\u001b[43mstart\u001b[49m\u001b[43m,\u001b[49m\u001b[43m \u001b[49m\u001b[43mend\u001b[49m\u001b[43m,\u001b[49m\u001b[43m \u001b[49m\u001b[43mstep\u001b[49m\u001b[43m=\u001b[49m\u001b[43mstep\u001b[49m\u001b[43m)\u001b[49m\n\u001b[32m   6664\u001b[39m     \u001b[38;5;66;03m# return a slice\u001b[39;00m\n\u001b[32m   6665\u001b[39m     \u001b[38;5;28;01mif\u001b[39;00m \u001b[38;5;129;01mnot\u001b[39;00m is_scalar(start_slice):\n",
      "\u001b[36mFile \u001b[39m\u001b[32m~/scm/personal/github.com/robpickerill/moment2/.venv/lib/python3.13/site-packages/pandas/core/indexes/base.py:6879\u001b[39m, in \u001b[36mIndex.slice_locs\u001b[39m\u001b[34m(self, start, end, step)\u001b[39m\n\u001b[32m   6877\u001b[39m start_slice = \u001b[38;5;28;01mNone\u001b[39;00m\n\u001b[32m   6878\u001b[39m \u001b[38;5;28;01mif\u001b[39;00m start \u001b[38;5;129;01mis\u001b[39;00m \u001b[38;5;129;01mnot\u001b[39;00m \u001b[38;5;28;01mNone\u001b[39;00m:\n\u001b[32m-> \u001b[39m\u001b[32m6879\u001b[39m     start_slice = \u001b[38;5;28;43mself\u001b[39;49m\u001b[43m.\u001b[49m\u001b[43mget_slice_bound\u001b[49m\u001b[43m(\u001b[49m\u001b[43mstart\u001b[49m\u001b[43m,\u001b[49m\u001b[43m \u001b[49m\u001b[33;43m\"\u001b[39;49m\u001b[33;43mleft\u001b[39;49m\u001b[33;43m\"\u001b[39;49m\u001b[43m)\u001b[49m\n\u001b[32m   6880\u001b[39m \u001b[38;5;28;01mif\u001b[39;00m start_slice \u001b[38;5;129;01mis\u001b[39;00m \u001b[38;5;28;01mNone\u001b[39;00m:\n\u001b[32m   6881\u001b[39m     start_slice = \u001b[32m0\u001b[39m\n",
      "\u001b[36mFile \u001b[39m\u001b[32m~/scm/personal/github.com/robpickerill/moment2/.venv/lib/python3.13/site-packages/pandas/core/indexes/base.py:6794\u001b[39m, in \u001b[36mIndex.get_slice_bound\u001b[39m\u001b[34m(self, label, side)\u001b[39m\n\u001b[32m   6790\u001b[39m original_label = label\n\u001b[32m   6792\u001b[39m \u001b[38;5;66;03m# For datetime indices label may be a string that has to be converted\u001b[39;00m\n\u001b[32m   6793\u001b[39m \u001b[38;5;66;03m# to datetime boundary according to its resolution.\u001b[39;00m\n\u001b[32m-> \u001b[39m\u001b[32m6794\u001b[39m label = \u001b[38;5;28;43mself\u001b[39;49m\u001b[43m.\u001b[49m\u001b[43m_maybe_cast_slice_bound\u001b[49m\u001b[43m(\u001b[49m\u001b[43mlabel\u001b[49m\u001b[43m,\u001b[49m\u001b[43m \u001b[49m\u001b[43mside\u001b[49m\u001b[43m)\u001b[49m\n\u001b[32m   6796\u001b[39m \u001b[38;5;66;03m# we need to look up the label\u001b[39;00m\n\u001b[32m   6797\u001b[39m \u001b[38;5;28;01mtry\u001b[39;00m:\n",
      "\u001b[36mFile \u001b[39m\u001b[32m~/scm/personal/github.com/robpickerill/moment2/.venv/lib/python3.13/site-packages/pandas/core/indexes/datetimes.py:642\u001b[39m, in \u001b[36mDatetimeIndex._maybe_cast_slice_bound\u001b[39m\u001b[34m(self, label, side)\u001b[39m\n\u001b[32m    637\u001b[39m \u001b[38;5;28;01mif\u001b[39;00m \u001b[38;5;28misinstance\u001b[39m(label, dt.date) \u001b[38;5;129;01mand\u001b[39;00m \u001b[38;5;129;01mnot\u001b[39;00m \u001b[38;5;28misinstance\u001b[39m(label, dt.datetime):\n\u001b[32m    638\u001b[39m     \u001b[38;5;66;03m# Pandas supports slicing with dates, treated as datetimes at midnight.\u001b[39;00m\n\u001b[32m    639\u001b[39m     \u001b[38;5;66;03m# https://github.com/pandas-dev/pandas/issues/31501\u001b[39;00m\n\u001b[32m    640\u001b[39m     label = Timestamp(label).to_pydatetime()\n\u001b[32m--> \u001b[39m\u001b[32m642\u001b[39m label = \u001b[38;5;28;43msuper\u001b[39;49m\u001b[43m(\u001b[49m\u001b[43m)\u001b[49m\u001b[43m.\u001b[49m\u001b[43m_maybe_cast_slice_bound\u001b[49m\u001b[43m(\u001b[49m\u001b[43mlabel\u001b[49m\u001b[43m,\u001b[49m\u001b[43m \u001b[49m\u001b[43mside\u001b[49m\u001b[43m)\u001b[49m\n\u001b[32m    643\u001b[39m \u001b[38;5;28mself\u001b[39m._data._assert_tzawareness_compat(label)\n\u001b[32m    644\u001b[39m \u001b[38;5;28;01mreturn\u001b[39;00m Timestamp(label)\n",
      "\u001b[36mFile \u001b[39m\u001b[32m~/scm/personal/github.com/robpickerill/moment2/.venv/lib/python3.13/site-packages/pandas/core/indexes/datetimelike.py:378\u001b[39m, in \u001b[36mDatetimeIndexOpsMixin._maybe_cast_slice_bound\u001b[39m\u001b[34m(self, label, side)\u001b[39m\n\u001b[32m    376\u001b[39m     \u001b[38;5;28;01mreturn\u001b[39;00m lower \u001b[38;5;28;01mif\u001b[39;00m side == \u001b[33m\"\u001b[39m\u001b[33mleft\u001b[39m\u001b[33m\"\u001b[39m \u001b[38;5;28;01melse\u001b[39;00m upper\n\u001b[32m    377\u001b[39m \u001b[38;5;28;01melif\u001b[39;00m \u001b[38;5;129;01mnot\u001b[39;00m \u001b[38;5;28misinstance\u001b[39m(label, \u001b[38;5;28mself\u001b[39m._data._recognized_scalars):\n\u001b[32m--> \u001b[39m\u001b[32m378\u001b[39m     \u001b[38;5;28;43mself\u001b[39;49m\u001b[43m.\u001b[49m\u001b[43m_raise_invalid_indexer\u001b[49m\u001b[43m(\u001b[49m\u001b[33;43m\"\u001b[39;49m\u001b[33;43mslice\u001b[39;49m\u001b[33;43m\"\u001b[39;49m\u001b[43m,\u001b[49m\u001b[43m \u001b[49m\u001b[43mlabel\u001b[49m\u001b[43m)\u001b[49m\n\u001b[32m    380\u001b[39m \u001b[38;5;28;01mreturn\u001b[39;00m label\n",
      "\u001b[36mFile \u001b[39m\u001b[32m~/scm/personal/github.com/robpickerill/moment2/.venv/lib/python3.13/site-packages/pandas/core/indexes/base.py:4301\u001b[39m, in \u001b[36mIndex._raise_invalid_indexer\u001b[39m\u001b[34m(self, form, key, reraise)\u001b[39m\n\u001b[32m   4299\u001b[39m \u001b[38;5;28;01mif\u001b[39;00m reraise \u001b[38;5;129;01mis\u001b[39;00m \u001b[38;5;129;01mnot\u001b[39;00m lib.no_default:\n\u001b[32m   4300\u001b[39m     \u001b[38;5;28;01mraise\u001b[39;00m \u001b[38;5;167;01mTypeError\u001b[39;00m(msg) \u001b[38;5;28;01mfrom\u001b[39;00m\u001b[38;5;250m \u001b[39m\u001b[34;01mreraise\u001b[39;00m\n\u001b[32m-> \u001b[39m\u001b[32m4301\u001b[39m \u001b[38;5;28;01mraise\u001b[39;00m \u001b[38;5;167;01mTypeError\u001b[39;00m(msg)\n",
      "\u001b[31mTypeError\u001b[39m: cannot do slice indexing on DatetimeIndex with these indexers [Ticker\nAAPL   2023-01-05\ndtype: datetime64[ns]] of type Series"
     ]
    }
   ],
   "source": [
    "import yfinance as yf\n",
    "import pandas as pd\n",
    "import vectorbt as vbt\n",
    "import pandas as pd\n",
    "import numpy as np\n",
    "from sklearn.linear_model import LinearRegression\n",
    "\n",
    "\n",
    "class AVWAPSignal:\n",
    "    def __init__(self, lookback: int = 30, r2_thresh: float = 0.8):\n",
    "        self.lookback = lookback\n",
    "        self.r2_thresh = r2_thresh\n",
    "\n",
    "    def compute_avwap(self, price: pd.Series, volume: pd.Series) -> pd.Series:\n",
    "        avwap = pd.Series(index=price.index, dtype=float)\n",
    "        for t in price.index[self.lookback:]:\n",
    "            window = price.loc[:t].iloc[-self.lookback:]\n",
    "            anchor = window.idxmin()  # anchor to local low\n",
    "            pr = price.loc[anchor:t]\n",
    "            vol = volume.loc[anchor:t]\n",
    "            tpv = (pr * vol).cumsum()\n",
    "            cum_vol = vol.cumsum()\n",
    "            avwap[t] = tpv.iloc[-1] / cum_vol.iloc[-1] if cum_vol.iloc[-1] > 0 else np.nan\n",
    "        return avwap\n",
    "\n",
    "    def compute_r2(self, series: pd.Series) -> pd.Series:\n",
    "        r2_series = pd.Series(index=series.index, dtype=float)\n",
    "        for t in series.index[self.lookback:]:\n",
    "            y = series.loc[:t].iloc[-self.lookback:]\n",
    "            if y.isna().any():\n",
    "                continue\n",
    "            x = np.arange(len(y)).reshape(-1, 1)\n",
    "            model = LinearRegression().fit(x, y.values)\n",
    "            r2_series[t] = model.score(x, y.values)\n",
    "        return r2_series\n",
    "\n",
    "    def generate(self, price: pd.Series, volume: pd.Series, **kwargs) -> pd.Series:\n",
    "        avwap = self.compute_avwap(price, volume)\n",
    "        r2 = self.compute_r2(avwap)\n",
    "        signal = (r2 > self.r2_thresh)\n",
    "        return signal.astype(bool)\n",
    "\n",
    "# === Load data ===\n",
    "ticker = \"AAPL\"\n",
    "data = yf.download(ticker, start=\"2023-01-01\", end=\"2025-06-28\", auto_adjust=True)\n",
    "price = data[\"Close\"]\n",
    "volume = data[\"Volume\"]\n",
    "\n",
    "# === Generate signal ===\n",
    "signal_gen = AVWAPSignal(lookback=30, r2_thresh=0.8)\n",
    "entry_signal = signal_gen.generate(price=price, volume=volume)\n",
    "\n",
    "# === Define exit: simple trailing AVWAP slope reversal ===\n",
    "exit_signal = entry_signal.shift(1)  # for now: exit after 1 bar (demo purpose)\n",
    "\n",
    "# === Backtest ===\n",
    "pf = vbt.Portfolio.from_signals(\n",
    "    close=price,\n",
    "    entries=entry_signal,\n",
    "    exits=exit_signal,\n",
    "    init_cash=10_000,\n",
    "    fees=0.001,\n",
    "    slippage=0.001,\n",
    "    freq='1D'\n",
    ")\n",
    "\n",
    "# === Output ===\n",
    "print(pf.stats())\n",
    "pf.plot().show()\n"
   ]
  }
 ],
 "metadata": {
  "kernelspec": {
   "display_name": ".venv",
   "language": "python",
   "name": "python3"
  },
  "language_info": {
   "codemirror_mode": {
    "name": "ipython",
    "version": 3
   },
   "file_extension": ".py",
   "mimetype": "text/x-python",
   "name": "python",
   "nbconvert_exporter": "python",
   "pygments_lexer": "ipython3",
   "version": "3.13.3"
  }
 },
 "nbformat": 4,
 "nbformat_minor": 5
}
